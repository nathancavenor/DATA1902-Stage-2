{
 "cells": [
  {
   "cell_type": "code",
   "execution_count": null,
   "metadata": {},
   "outputs": [],
   "source": [
    "import pandas as pd\n",
    "import numpy as np\n",
    "import matplotlib.pyplot as plt\n",
    "import seaborn as sns\n",
    "import matplotlib.patches as mpatches\n",
    "import matplotlib\n",
    "\n",
    "new_file_paths = [fr\"C:\\Users\\oscar\\Downloads\\rain{x}.csv\" for x in range(1,13)]\n",
    "\n",
    "df = pd.concat([pd.read_csv(file, header=None, names = [\"Data\"]) for file in new_file_paths])\n",
    "\n",
    "df[\"Date\"] = df[\"Data\"].apply(lambda x: x.split(\" \")[0])\n",
    "df[\"Date\"] = pd.to_datetime(df[\"Date\"].apply(lambda x: x[:4] + \"-\" + x[-2:]))\n",
    "df[\"Rainfall Anomaly\"] = df[\"Data\"].apply(lambda x: x.split(\" \")[1])\n",
    "anomaly_df = df.iloc[:,[1,2]].sort_values(\"Date\").reset_index(drop = True)\n",
    "\n",
    "df = pd.read_csv(r\"C:\\Users\\oscar\\Downloads\\rain.aus.allmonths.52268.csv\")\n",
    "df = df.melt(id_vars = \"Year\", value_vars = df.columns[1:], value_name = \"Total Rainfall\")\n",
    "df[\"Year\"] = df[\"Year\"].astype(str)\n",
    "df[\"Date\"] = pd.to_datetime(df[[\"Year\",\"variable\"]].apply(lambda x: \"-\".join(x), axis = 1))\n",
    "df = df.loc[:,[\"Date\",\"Total Rainfall\"]].sort_values(\"Date\").reset_index(drop = True)\n",
    "\n",
    "df_new = df.merge(anomaly_df, on = \"Date\", how = \"left\")\n",
    "\n",
    "df = pd.read_csv(r\"C:\\Users\\oscar\\Downloads\\tmean.aus.allmonths.40688.csv\")\n",
    "df = df.melt(id_vars = \"Year\", value_vars = df.columns[1:], value_name = \"Temperature Anomaly\")\n",
    "df[\"Year\"] = df[\"Year\"].astype(str)\n",
    "df[\"Date\"] = pd.to_datetime(df[[\"Year\",\"variable\"]].apply(lambda x: \"-\".join(x), axis = 1))\n",
    "df = df.loc[:,[\"Date\",\"Temperature Anomaly\"]].sort_values(\"Date\").reset_index(drop = True)\n",
    "df_new.merge(df, on = \"Date\", how = \"left\").set_index(\"Date\").to_csv(r\"C:\\Users\\oscar\\Downloads\\Updated Weather Data.csv\")"
   ]
  }
 ],
 "metadata": {
  "language_info": {
   "name": "python"
  },
  "orig_nbformat": 4
 },
 "nbformat": 4,
 "nbformat_minor": 2
}
