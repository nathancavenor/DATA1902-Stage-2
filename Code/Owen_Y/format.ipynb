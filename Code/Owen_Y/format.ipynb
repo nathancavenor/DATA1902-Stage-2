{
 "cells": [
  {
   "cell_type": "code",
   "execution_count": 1,
   "metadata": {},
   "outputs": [],
   "source": [
    "import pandas as pd"
   ]
  },
  {
   "cell_type": "code",
   "execution_count": 26,
   "metadata": {},
   "outputs": [],
   "source": [
    "data = {\"Date\" : [], \"ONI\": []}\n",
    "\n",
    "date_map = {'DJF': \"01\", 'JFM': \"02\", 'FMA': \"03\", 'MAM': \"04\", 'AMJ': \"05\", 'MJJ': \"06\", 'JJA': \"07\", 'JAS': \"08\", 'ASO': \"09\", 'SON': \"10\", 'OND': \"11\", 'NDJ': \"12\"}\n",
    "\n",
    "with open(\"../../Data/ONI.txt\") as f:\n",
    "    for line in f:\n",
    "        if line == \" SEAS  YR   TOTAL   ANOM\\n\": # Skip header row\n",
    "            continue\n",
    "        values = list(filter(lambda item: item, line.rstrip(\"\\n\").split(\" \")))\n",
    "\n",
    "        data[\"Date\"].append(f\"{values[1]}-{date_map[values[0]]}-01\")\n",
    "        data[\"ONI\"].append(values[3])\n",
    "\n",
    "ONI_df = pd.DataFrame(data)\n",
    "ONI_df.set_index(\"Date\", inplace=True)"
   ]
  },
  {
   "cell_type": "code",
   "execution_count": 27,
   "metadata": {},
   "outputs": [],
   "source": [
    "def parse_space_separated(input_string):\n",
    "    table = []\n",
    "\n",
    "    for lines in input_string.split(\"\\n\"):\n",
    "        elements = lines.split(\" \") # Multiple Spaces are delimiters in file\n",
    "        elements = [element for element in elements if element != \"\"] # Remove empty elements\n",
    "\n",
    "        if len(elements) > 0 and elements[0].isnumeric(): # Skip empty lines and title/header rows\n",
    "            table.append(elements)\n",
    "    \n",
    "    return table\n",
    "\n",
    "def create_date_index(year_list):\n",
    "    months = [\"01\", \"02\", \"03\", \"04\", \"05\", \"06\", \"07\", \"08\", \"09\", \"10\", \"11\", \"12\"]\n",
    "    date_index = [f\"{year}-{month}-01\" for year in year_list for month in months] # join together time index in YYYY-MM-DD format\n",
    "\n",
    "    return date_index\n",
    "\n",
    "SOI_df = pd.DataFrame()\n",
    "\n",
    "with open(\"../../Data/SOI.txt\", \"r\") as f:\n",
    "    file_content = f.read()\n",
    "    file_content = file_content.replace(\"-999.9\", \" -999.9 \") # -999.9 is wide enough that it screws up \" \" as delimiter scheme. This code pads -999.9 values with a \" \" on each side\n",
    "\n",
    "    _ = file_content.split(\"(STAND TAHITI - STAND DARWIN)  SEA LEVEL PRESS\")[1] # 1st table will not be used. 1st table contains the SLP anomalies data\n",
    "    standardised = file_content.split(\"(STAND TAHITI - STAND DARWIN)  SEA LEVEL PRESS\")[2] # 2nd table will be used. 2nd table contains SOI data i.e. the standarised SLP anomalies data\n",
    "\n",
    "    table = parse_space_separated(standardised)\n",
    "\n",
    "    years = [row[0] for row in table]\n",
    "    data = [x for row in table for x in row[1:]]\n",
    "    date_index = create_date_index(years)\n",
    "\n",
    "    SOI_df = pd.DataFrame(data=data, columns = [\"SOI\"], index = date_index)\n",
    "\n",
    "    SOI_df.replace(to_replace=\"-999.9\", value = float('nan'), inplace=True) # replace default values with nan\n",
    "    SOI_df.replace(to_replace=\"999.9\", value = float('nan'), inplace=True)\n",
    "\n",
    "    SOI_df.dropna(axis=0, inplace=True) \n"
   ]
  },
  {
   "cell_type": "code",
   "execution_count": 28,
   "metadata": {},
   "outputs": [],
   "source": [
    "enso_years = {\n",
    "        \"El Niño\": [],\n",
    "        \"La Niña\": [],\n",
    "        \"Neutral\": []\n",
    "    }\n",
    "\n",
    "with open(\"../../Data/Past ENSO Events.txt\") as f:\n",
    "    file_content = f.read()\n",
    "    \n",
    "    enso = \"\"\n",
    "   \n",
    "\n",
    "    for line in file_content.split(\"\\n\"):\n",
    "        if len(line) == 0: \n",
    "            continue\n",
    "        if line == 'El Niño' or line == 'Neutral' or line == 'La Niña': # process subheadings and store it \n",
    "            enso = line\n",
    "            continue\n",
    "        if enso == \"\": #skip if enso still uninitialised\n",
    "            continue\n",
    "        enso_years[enso].extend([int(line)] if len(line)==4 else list(range(int(line[:4]), int(line[-4:]) + 1))) # deal with lines that have e.g. '1904' vs. lines that have e.g. '2017-2020'\n"
   ]
  },
  {
   "cell_type": "code",
   "execution_count": 38,
   "metadata": {},
   "outputs": [],
   "source": [
    "merged_df = SOI_df.merge(ONI_df, how=\"outer\", left_index=True, right_index=True) # merge all dataframes by Date Index. Keep all data\n",
    "merged_df = merged_df.astype(float) \n",
    "\n",
    "enso_column = []\n",
    "\n",
    "for date in merged_df.index:\n",
    "    enso = None\n",
    "    \n",
    "    if int(date[:4]) in enso_years[\"El Niño\"]:\n",
    "        enso = \"El Niño\"\n",
    "    \n",
    "    elif int(date[:4]) in enso_years[\"Neutral\"]:\n",
    "        enso = \"Neutral\"\n",
    "    \n",
    "    elif int(date[:4]) in enso_years[\"La Niña\"]:\n",
    "        enso = \"La Niña\"\n",
    "\n",
    "    enso_column.append(enso)\n",
    "\n",
    "merged_df[\"ENSO\"] = enso_column\n",
    "merged_df.dropna(inplace=True)"
   ]
  },
  {
   "cell_type": "code",
   "execution_count": 40,
   "metadata": {},
   "outputs": [],
   "source": [
    "merged_df.to_csv(\"SOI_ONI_ENSO.csv\")"
   ]
  }
 ],
 "metadata": {
  "kernelspec": {
   "display_name": "Python 3",
   "language": "python",
   "name": "python3"
  },
  "language_info": {
   "codemirror_mode": {
    "name": "ipython",
    "version": 3
   },
   "file_extension": ".py",
   "mimetype": "text/x-python",
   "name": "python",
   "nbconvert_exporter": "python",
   "pygments_lexer": "ipython3",
   "version": "3.10.4"
  },
  "orig_nbformat": 4
 },
 "nbformat": 4,
 "nbformat_minor": 2
}
